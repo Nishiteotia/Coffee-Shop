{
 "cells": [
  {
   "cell_type": "code",
   "execution_count": 1,
   "id": "f88f4d4f",
   "metadata": {},
   "outputs": [
    {
     "name": "stdout",
     "output_type": "stream",
     "text": [
      "What is your balance?500\n",
      "you can buy the big coffee\n",
      "Here is your change RS 400.0\n",
      "you can buy the medium coffee\n",
      "Here is your change RS 425.0\n",
      "you can buy the small coffee\n",
      "Here is your change RS 450.0\n"
     ]
    }
   ],
   "source": [
    "class Coffee:\n",
    "    def __init__(self,name,price):\n",
    "        self.name=name\n",
    "        self.price=price\n",
    "    def check_budget(self,balance):\n",
    "        if self.balance>=price:\n",
    "            print(\"Enter your budget in int or float\")\n",
    "            exit()\n",
    "\n",
    "        else:\n",
    "            print(\"sorry, you have not enough money\")\n",
    "            exit()\n",
    "    def get_change(self,balance):\n",
    "        return balance-self.price\n",
    "    def sell(self,balance):\n",
    "        if balance>=self.price:\n",
    "            print(f\"you can buy the {self.name} coffee\")\n",
    "            if balance==self.price:\n",
    "                print(f\"It's Completed\")\n",
    "            else:\n",
    "                print(f\"Here is your change RS {self.get_change(balance)}\")\n",
    "        exit(\"Thanks for your transaction\")\n",
    "small=Coffee(\"small\",50)\n",
    "medium=Coffee(\"medium\",75)\n",
    "big=Coffee(\"big\",100)\n",
    "try:\n",
    "    user_budget=float(input(\"What is your balance?\"))\n",
    "except ValueError:\n",
    "    exit(\"Please enter a number\")\n",
    "for coffee in [big,medium,small]:\n",
    "    coffee.sell(user_budget)"
   ]
  },
  {
   "cell_type": "code",
   "execution_count": null,
   "id": "491a8ce3",
   "metadata": {},
   "outputs": [],
   "source": []
  }
 ],
 "metadata": {
  "kernelspec": {
   "display_name": "Python 3 (ipykernel)",
   "language": "python",
   "name": "python3"
  },
  "language_info": {
   "codemirror_mode": {
    "name": "ipython",
    "version": 3
   },
   "file_extension": ".py",
   "mimetype": "text/x-python",
   "name": "python",
   "nbconvert_exporter": "python",
   "pygments_lexer": "ipython3",
   "version": "3.9.12"
  }
 },
 "nbformat": 4,
 "nbformat_minor": 5
}
